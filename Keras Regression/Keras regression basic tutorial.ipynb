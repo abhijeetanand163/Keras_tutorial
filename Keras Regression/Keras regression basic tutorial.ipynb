{
 "cells": [
  {
   "cell_type": "markdown",
   "metadata": {},
   "source": [
    "## Keras Tutorial !"
   ]
  },
  {
   "cell_type": "code",
   "execution_count": 1,
   "metadata": {},
   "outputs": [
    {
     "name": "stderr",
     "output_type": "stream",
     "text": [
      "Using TensorFlow backend.\n"
     ]
    }
   ],
   "source": [
    "import numpy as np\n",
    "import pandas as pd\n",
    "from keras.models import Sequential\n",
    "from keras.layers import Dense\n",
    "from keras.wrappers.scikit_learn import KerasRegressor\n",
    "from sklearn.model_selection import cross_val_score\n",
    "from sklearn.model_selection import KFold\n",
    "from sklearn.preprocessing import StandardScaler\n",
    "from sklearn.pipeline import Pipeline\n",
    "import matplotlib.pyplot as plt"
   ]
  },
  {
   "cell_type": "code",
   "execution_count": 2,
   "metadata": {},
   "outputs": [],
   "source": [
    "# # load dataset\n",
    "# dataframe = pandas.read_csv(\"boston-housing/train.csv\")\n",
    "# dataset = dataframe.values\n",
    "# X = dataset[:, 1:14]\n",
    "# Y = dataset[:,14]"
   ]
  },
  {
   "cell_type": "code",
   "execution_count": 3,
   "metadata": {},
   "outputs": [],
   "source": [
    "# # load dataset\n",
    "# dataframe = pandas.read_csv(\"boston-housing/train.csv\")\n",
    "# dataset = dataframe.values\n",
    "# X_train = dataset[:, 1:14]\n",
    "# Y_train = dataset[:,14]"
   ]
  },
  {
   "cell_type": "code",
   "execution_count": 4,
   "metadata": {},
   "outputs": [],
   "source": [
    "# _mean = X_train.mean()\n",
    "# _std = X_train.std()\n",
    "# print(_mean)\n",
    "# print(_std)"
   ]
  },
  {
   "cell_type": "markdown",
   "metadata": {},
   "source": [
    "## Loading Random Dataset of dimension ( 5000 , 1286 )"
   ]
  },
  {
   "cell_type": "code",
   "execution_count": 5,
   "metadata": {},
   "outputs": [],
   "source": [
    "# Random Dataset\n",
    "X = np.random.rand(5000,1286)\n",
    "Y = np.random.rand(5000)"
   ]
  },
  {
   "cell_type": "markdown",
   "metadata": {},
   "source": [
    "### Pre-processing of Data !"
   ]
  },
  {
   "cell_type": "code",
   "execution_count": 6,
   "metadata": {},
   "outputs": [],
   "source": [
    "# Normalization of DataSet\n",
    "from sklearn import preprocessing\n",
    "X = preprocessing.StandardScaler().fit(X).transform(X)"
   ]
  },
  {
   "cell_type": "code",
   "execution_count": 7,
   "metadata": {},
   "outputs": [],
   "source": [
    "# train test split\n",
    "X_train, Y_train = X[:4000], Y[:4000]     \n",
    "X_test, Y_test = X[4000:], Y[4000:] "
   ]
  },
  {
   "cell_type": "markdown",
   "metadata": {},
   "source": [
    "## We are using sequential keras model !"
   ]
  },
  {
   "cell_type": "code",
   "execution_count": 8,
   "metadata": {},
   "outputs": [
    {
     "name": "stderr",
     "output_type": "stream",
     "text": [
      "/home/abhijeet/anaconda3/lib/python3.6/site-packages/ipykernel_launcher.py:2: UserWarning: Update your `Dense` call to the Keras 2 API: `Dense(input_dim=1286, units=1)`\n",
      "  \n"
     ]
    }
   ],
   "source": [
    "model = Sequential()\n",
    "model.add(Dense(output_dim=1, input_dim=1286))"
   ]
  },
  {
   "cell_type": "markdown",
   "metadata": {},
   "source": [
    "#### Loss function used by Keras are \n",
    "\n",
    "1. mean_squared_error\n",
    "        keras.losses.mean_squared_error(y_true, y_pred)\n",
    "        \n",
    "        \n",
    "2. mean_absolute_error\n",
    "        keras.losses.mean_absolute_error(y_true, y_pred)\n",
    "        \n",
    "        \n",
    "3. mean_absolute_percentage_error\n",
    "        keras.losses.mean_absolute_percentage_error(y_true, y_pred)\n",
    "        \n",
    "        \n",
    "4. mean_squared_logarithmic_error\n",
    "        keras.losses.mean_squared_logarithmic_error(y_true, y_pred)\n",
    "        \n",
    "        \n",
    "5. squared_hinge\n",
    "        keras.losses.squared_hinge(y_true, y_pred)\n",
    "        \n",
    "        \n",
    "6. hinge\n",
    "        keras.losses.hinge(y_true, y_pred)\n",
    "        \n",
    "        \n",
    "7. categorical_hinge\n",
    "        keras.losses.categorical_hinge(y_true, y_pred)\n",
    "        \n",
    "        \n",
    "8. logcosh\n",
    "        keras.losses.logcosh(y_true, y_pred)\n",
    "\n",
    "\n",
    "#### Optimizer used by keras\n",
    "\n",
    "1. sgd - Stochastic Gradient Descent "
   ]
  },
  {
   "cell_type": "code",
   "execution_count": 9,
   "metadata": {},
   "outputs": [],
   "source": [
    "model.compile(loss='mae', optimizer='sgd')"
   ]
  },
  {
   "cell_type": "code",
   "execution_count": 10,
   "metadata": {},
   "outputs": [
    {
     "name": "stdout",
     "output_type": "stream",
     "text": [
      "Training -----------\n",
      "train cost:  1.2154078\n",
      "train cost:  0.54246193\n",
      "train cost:  0.26583663\n",
      "train cost:  0.1954455\n",
      "train cost:  0.18216082\n",
      "train cost:  0.17828996\n",
      "train cost:  0.17690656\n",
      "train cost:  0.17634426\n",
      "train cost:  0.17601396\n",
      "train cost:  0.17587204\n",
      "train cost:  0.17577219\n",
      "train cost:  0.1756858\n",
      "train cost:  0.1756361\n",
      "train cost:  0.17564625\n",
      "train cost:  0.17569013\n",
      "11.127307415008545\n"
     ]
    }
   ],
   "source": [
    "train_loss = []\n",
    "import time\n",
    "tic = time.time()\n",
    "print('Training -----------')\n",
    "for step in range(1500):\n",
    "    cost = model.train_on_batch(X_train, Y_train)\n",
    "    train_loss.append((step,cost))\n",
    "    if step % 100 == 0:\n",
    "        print('train cost: ', cost)\n",
    "toc = time.time()\n",
    "print(toc - tic)"
   ]
  },
  {
   "cell_type": "code",
   "execution_count": 11,
   "metadata": {},
   "outputs": [],
   "source": [
    "train_loss = np.array(train_loss)"
   ]
  },
  {
   "cell_type": "code",
   "execution_count": 12,
   "metadata": {},
   "outputs": [],
   "source": [
    "x = train_loss[:,0]\n",
    "y = train_loss[:,1]"
   ]
  },
  {
   "cell_type": "code",
   "execution_count": 13,
   "metadata": {},
   "outputs": [
    {
     "data": {
      "image/png": "[encoded data removed]",
      "text/plain": [
       "<Figure size 432x288 with 1 Axes>"
      ]
     },
     "metadata": {
      "needs_background": "light"
     },
     "output_type": "display_data"
    }
   ],
   "source": [
    "import matplotlib.pyplot as plt\n",
    "plt.plot(x, y, alpha=0.5)\n",
    "plt.show()\n"
   ]
  },
  {
   "cell_type": "code",
   "execution_count": 14,
   "metadata": {},
   "outputs": [
    {
     "name": "stdout",
     "output_type": "stream",
     "text": [
      "\n",
      "Testing ------------\n",
      "1000/1000 [==============================] - 0s 294us/step\n",
      "test cost: 0.33121413876116274\n",
      "Weights= [[ 0.00213385]\n",
      " [-0.00641304]\n",
      " [ 0.00409301]\n",
      " ...\n",
      " [ 0.01158657]\n",
      " [ 0.00199732]\n",
      " [ 0.00204375]] \n",
      "biases= [0.50164986]\n",
      "<bound method Network.summary of <keras.engine.sequential.Sequential object at 0x7f3af92201d0>>\n"
     ]
    }
   ],
   "source": [
    "print('\\nTesting ------------')\n",
    "cost = model.evaluate(X_test, Y_test, batch_size=1)\n",
    "print('test cost:', cost)\n",
    "W, b = model.layers[0].get_weights()\n",
    "print('Weights=', W, '\\nbiases=', b)\n",
    "print(model.summary)"
   ]
  },
  {
   "cell_type": "code",
   "execution_count": 15,
   "metadata": {},
   "outputs": [],
   "source": [
    "Y_pred = model.predict(X_test)"
   ]
  },
  {
   "cell_type": "markdown",
   "metadata": {},
   "source": [
    "###  Metrics of accuracy !!"
   ]
  },
  {
   "cell_type": "code",
   "execution_count": 16,
   "metadata": {},
   "outputs": [
    {
     "name": "stdout",
     "output_type": "stream",
     "text": [
      "explained variance score is : -1.2091406505060611\n",
      "mean absolute error is :  0.3312141386926007\n",
      "mean squared error is :  0.16480648602465614\n",
      "r2 score is :  -0.9785566640769379\n"
     ]
    }
   ],
   "source": [
    "from sklearn.metrics import mean_squared_error\n",
    "from sklearn.metrics import mean_absolute_error\n",
    "from sklearn.metrics import explained_variance_score\n",
    "from sklearn.metrics import r2_score\n",
    "\n",
    "print(\"explained variance score is :\", explained_variance_score(Y_pred, Y_test, multioutput='uniform_average'))\n",
    "print(\"mean absolute error is : \",mean_absolute_error(Y_pred, Y_test))\n",
    "print(\"mean squared error is : \",mean_squared_error(Y_pred, Y_test))\n",
    "print(\"r2 score is : \", r2_score(Y_test, Y_pred) )\n"
   ]
  },
  {
   "cell_type": "code",
   "execution_count": null,
   "metadata": {},
   "outputs": [],
   "source": []
  }
 ],
 "metadata": {
  "kernelspec": {
   "display_name": "Python 3",
   "language": "python",
   "name": "python3"
  },
  "language_info": {
   "codemirror_mode": {
    "name": "ipython",
    "version": 3
   },
   "file_extension": ".py",
   "mimetype": "text/x-python",
   "name": "python",
   "nbconvert_exporter": "python",
   "pygments_lexer": "ipython3",
   "version": "3.6.7"
  }
 },
 "nbformat": 4,
 "nbformat_minor": 2
}
